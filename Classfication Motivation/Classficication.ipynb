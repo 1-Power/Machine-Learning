{
 "cells": [
  {
   "cell_type": "markdown",
   "metadata": {},
   "source": [
    "# Classification:\n",
    "- When there aare only two output either yes or no then this kind of classification is called Binary classification.\n",
    "- There will be only two type of output.\n",
    "- They can be yes or no 1 or 0 respectively\n"
   ]
  },
  {
   "cell_type": "markdown",
   "metadata": {},
   "source": [
    "# Logistic Regression\n",
    "- Logictic Regression is very similar to the Linerar Regression but with logical regression we compute the probability and determine the 1 or 0.\n",
    "- There is a important function caleed the sigmod function or the logistic fucntion\n",
    "- The sigmod function output the value between 0 and 1. \n",
    "- The formula for sigmod function is \n",
    "  *** y = 1 / (1 + exp(-x)) ***\n",
    "and there is an image that is stated bellow\n",
    "\n",
    "![sigmod-function](./img/sigma%20function.png)\n",
    "\n",
    "\n",
    "- When z is very large then the value of g(z) will be very close to 1."
   ]
  },
  {
   "cell_type": "markdown",
   "metadata": {},
   "source": []
  }
 ],
 "metadata": {
  "kernelspec": {
   "display_name": "Python 3.9.13 ('base')",
   "language": "python",
   "name": "python3"
  },
  "language_info": {
   "name": "python",
   "version": "3.9.13"
  },
  "orig_nbformat": 4,
  "vscode": {
   "interpreter": {
    "hash": "8eda3a6ca1dac3d307e8394fa9c0dba909f5e312ddf81549e4c97f571a41af8d"
   }
  }
 },
 "nbformat": 4,
 "nbformat_minor": 2
}
