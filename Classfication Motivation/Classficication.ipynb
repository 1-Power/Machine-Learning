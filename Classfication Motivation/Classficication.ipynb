{
 "cells": [
  {
   "cell_type": "markdown",
   "metadata": {},
   "source": [
    "# Classification:\n",
    "- When there aare only two output either yes or no then this kind of classification is called Binary classification.\n",
    "- There will be only two type of output.\n",
    "- They can be yes or no 1 or 0 respectively\n"
   ]
  },
  {
   "cell_type": "code",
   "execution_count": null,
   "metadata": {},
   "outputs": [],
   "source": []
  }
 ],
 "metadata": {
  "kernelspec": {
   "display_name": "Python 3.9.13 ('base')",
   "language": "python",
   "name": "python3"
  },
  "language_info": {
   "name": "python",
   "version": "3.9.13"
  },
  "orig_nbformat": 4,
  "vscode": {
   "interpreter": {
    "hash": "8eda3a6ca1dac3d307e8394fa9c0dba909f5e312ddf81549e4c97f571a41af8d"
   }
  }
 },
 "nbformat": 4,
 "nbformat_minor": 2
}
