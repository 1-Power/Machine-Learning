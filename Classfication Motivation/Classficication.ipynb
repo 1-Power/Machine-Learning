{
 "cells": [
  {
   "cell_type": "markdown",
   "metadata": {},
   "source": [
    "# Classification:\n",
    "- When there aare only two output either yes or no then this kind of classification is called Binary classification.\n",
    "- There will be only two type of output.\n",
    "- They can be yes or no 1 or 0 respectively\n"
   ]
  },
  {
   "cell_type": "markdown",
   "metadata": {},
   "source": [
    "# Logistic Regression\n",
    "- Logictic Regression is very similar to the Linerar Regression but with logical regression we compute the probability and determine the 1 or 0.\n",
    "- There is a important function caleed the sigmod function or the logistic fucntion\n",
    "- The sigmod function output the value between 0 and 1. \n",
    "- The formula for sigmod function is \n",
    "  *** y = 1 / (1 + exp(-x)) ***\n",
    "and there is an image that is stated bellow\n",
    "\n",
    "![sigmod-function](./img/sigma%20function.png)\n",
    "\n",
    "\n",
    "- When z is very large then the value of g(z) will be very close to 1.\n",
    "- IF the value of Z is very small then the value of g(z) will be close to 0\n",
    "\n",
    "![sigmod-function](./img/logistical-regression-cal.png)\n",
    "\n",
    "![sigmod-function](./img/cal2.png)\n",
    "\n"
   ]
  },
  {
   "cell_type": "markdown",
   "metadata": {},
   "source": [
    "# Decision Boundary\n",
    "- It the line when the vlaues are spred o each side of x and y and there is a solid line.\n",
    "- TO the right side there will be 1 values and on the left side there can be 0 Values or vice versa. \n",
    "- That boundary is called Decision Boundary.\n",
    "- Sometime descision Boundary can not be stright then in that case uou need to decide the ratioo pint where the point lay and then adjust to get the value"
   ]
  },
  {
   "cell_type": "markdown",
   "metadata": {},
   "source": [
    "# Cost Function for Logistic Regression:\n",
    "- The formaula for Cost function in Linear regress can not be used because when you make the graph of the cost function it will be a convex function and it will be a very complex function and the value of gradient desent will not be correct. \n",
    "- There will be a greater lose just checkout the bellow diagram.\n",
    "\n",
    "![image](./img/Cost-Function-Logistical-Regression.png)\n",
    "\n",
    "- As The second graph shows that the value od the gradient desent is decressed at certain points and the value of the gradient desent is increased at certain points if you are using the cost function of the linear regression. so we need to change ad twee the cost function for the logistic regression.\n",
    "\n",
    "- The valie is will always going to be in between 1 and 0.\n",
    "- If the Probalily os close to 0 ypur model can be correct.\n",
    "- As shown in the bellow diagram.\n",
    "\n",
    "![image](./img/Lost-function-Logistic-Regression.png)"
   ]
  },
  {
   "cell_type": "markdown",
   "metadata": {},
   "source": [
    "# Gradient Desent in Logistic Regression:\n",
    "- Just like Linear Regression there is Gradient despent for the Logistic Regression and we have to find the value of the w and b. with the learning rate so the formula for that is stated bellow.\n",
    "\n",
    "![img](./img/Gradent-Desent-Logistical%20Regression.png)\n",
    "\n",
    "\n",
    "- As you see the value value of the cost function and the learn Regression Gradient is being used and with some change we can get the value of the Logistic Regression Gradient Desent.\n",
    "- But that will raise some more questions that if the formula is same looking so that graph will be same along without as well.\n",
    "- The answer is no the graph will not be same because the value of the cost function is not same as the Linear Regression because the cost functiona value is not same as the Linear Regression and in logistical Regress thw value will be in between the 1 and 0 so that is why the graph will not be same along with the output.\n",
    "- In learn Regress the value of f(x) is different and for Logistic Regression the value of f(x) is different and both are stared bellow:\n",
    "\n",
    "![image](./img/smae-equation-logistical-Regression.png)\n"
   ]
  },
  {
   "cell_type": "markdown",
   "metadata": {},
   "source": []
  }
 ],
 "metadata": {
  "kernelspec": {
   "display_name": "Python 3.9.13 ('base')",
   "language": "python",
   "name": "python3"
  },
  "language_info": {
   "name": "python",
   "version": "3.9.13"
  },
  "orig_nbformat": 4,
  "vscode": {
   "interpreter": {
    "hash": "8eda3a6ca1dac3d307e8394fa9c0dba909f5e312ddf81549e4c97f571a41af8d"
   }
  }
 },
 "nbformat": 4,
 "nbformat_minor": 2
}
