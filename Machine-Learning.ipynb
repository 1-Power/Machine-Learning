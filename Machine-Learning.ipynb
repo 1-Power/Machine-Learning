{
 "cells": [
  {
   "cell_type": "markdown",
   "metadata": {},
   "source": [
    "# Machine Learning\n",
    "## Supervised learning\n",
    "- Trying to predicate the values or the output by machine by training the model.\n",
    "## Type of Supervised learning Algorithm:\n",
    "### Regression: \n",
    "- Predcation of a value from infinite choices.\n",
    "- Input from Output.\n",
    "- One Input and one Output\n",
    "### Classification algorithm:\n",
    "- Multiple Input options and Just one output.\n",
    "- Learning algorithm will set the boundary line and then identify the out of the problem.\n",
    "- Predicate a category from small number of output choices.\n",
    "\n",
    "## Unsupervised learning\n",
    "- No input \n",
    "- Don't tell the model what is what and ehich cluseter is what. \n",
    "- Algorithm will decided which cluster is which. \n",
    "- We are not tell the alog nothing and we are not tell the model will identify the data by it's self.\n",
    "- Data come with input x and not output label y. \n",
    "- The algorithm have to find the structure in the given data.\n",
    "### Clustering Algorithm\n",
    "- Group similar data into clusters.\n",
    "### Anomaly Detection Algorithm:\n",
    "- Find Unsually data points in the data \n",
    "### Dimensionally reduction:\n",
    "- COmpress Large input data into few numbers. as lossing less data.\n"
   ]
  },
  {
   "cell_type": "code",
   "execution_count": null,
   "metadata": {},
   "outputs": [],
   "source": []
  }
 ],
 "metadata": {
  "kernelspec": {
   "display_name": "Python 3.9.12 ('base')",
   "language": "python",
   "name": "python3"
  },
  "language_info": {
   "name": "python",
   "version": "3.9.12"
  },
  "orig_nbformat": 4,
  "vscode": {
   "interpreter": {
    "hash": "ad2bdc8ecc057115af97d19610ffacc2b4e99fae6737bb82f5d7fb13d2f2c186"
   }
  }
 },
 "nbformat": 4,
 "nbformat_minor": 2
}
