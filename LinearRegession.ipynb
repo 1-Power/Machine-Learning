{
 "cells": [
  {
   "cell_type": "markdown",
   "metadata": {},
   "source": [
    "# Linear Regression Model:\n",
    "- Training the model and then give us the correct predictions.\n",
    "- Predict a number from a database this is called Regress Model.\n",
    "- Linear Regression Model is a Regression model.\n",
    "## Key things:\n",
    "### Traning Set:\n",
    "-  The model will learn from the data to get the accuracy of the output predictions.\n",
    "- x = \"input\" variable\n",
    "- y = \"output\" variable\n",
    "- m = number of training examples\n",
    "- So the formula for the training set will be (x,y) and each row will be represented by an exponential but the power will not be included.\n",
    "so x^2 = not x^2 not exponential it repeseent a row number.\n",
    "\n",
    "- A Training set have two things;\n",
    "1. Input features variable (x)\n",
    "2. Output variable (y)\n",
    "\n",
    "Bothing of these thing will be feed into the learning algorithm. the learning algorithm will learn from the data and then give us the correct predictions that predication will be called a ***function*** and the function will be called ***hypothesis***.\n",
    "<br>The Job of this function is to take another input x and then give us the correct prediction. This output will be called y^ (y-hat). y^ is called the predacted output of y. The value of y^ may not be correct because it's a prediction.\n",
    "<br> The perfect way to represent this function is f(x)=wx+b, where as w and b are numbers and the number choosen by the w and by will determin the prediction of y^.\n",
    "\n",
    "### Cost Function:\n"
   ]
  },
  {
   "cell_type": "markdown",
   "metadata": {},
   "source": []
  }
 ],
 "metadata": {
  "kernelspec": {
   "display_name": "Python 3.10.7 64-bit",
   "language": "python",
   "name": "python3"
  },
  "language_info": {
   "name": "python",
   "version": "3.10.7"
  },
  "orig_nbformat": 4,
  "vscode": {
   "interpreter": {
    "hash": "26de051ba29f2982a8de78e945f0abaf191376122a1563185a90213a26c5da77"
   }
  }
 },
 "nbformat": 4,
 "nbformat_minor": 2
}
