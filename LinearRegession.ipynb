{
 "cells": [
  {
   "cell_type": "markdown",
   "metadata": {},
   "source": [
    "# Linear Regression Model:\n",
    "- Training the model and then give us the correct predictions.\n",
    "- Predict a number from a database this is called Regress Model.\n",
    "- Linear Regression Model is a Regression model.\n",
    "## Key things:\n",
    "### Traning Set:\n",
    "-  The model will learn from the data to get the accuracy of the output predictions.\n",
    "- x = \"input\" variable\n",
    "- y = \"output\" variable\n",
    "- m = number of training examples\n",
    "- So the formula for the training set will be (x,y) and each row will be represented by an exponential but the power will not be included.\n",
    "so x^2 = not x^2 not exponential it repeseent a row number."
   ]
  },
  {
   "cell_type": "markdown",
   "metadata": {},
   "source": []
  }
 ],
 "metadata": {
  "language_info": {
   "name": "python"
  },
  "orig_nbformat": 4
 },
 "nbformat": 4,
 "nbformat_minor": 2
}
